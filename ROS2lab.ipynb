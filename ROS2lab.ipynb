{
  "nbformat": 4,
  "nbformat_minor": 0,
  "metadata": {
    "colab": {
      "provenance": [],
      "gpuType": "T4",
      "include_colab_link": true
    },
    "kernelspec": {
      "name": "python3",
      "display_name": "Python 3"
    },
    "language_info": {
      "name": "python"
    },
    "accelerator": "GPU"
  },
  "cells": [
    {
      "cell_type": "markdown",
      "metadata": {
        "id": "view-in-github",
        "colab_type": "text"
      },
      "source": [
        "<a href=\"https://colab.research.google.com/github/mattkwan16/ROS2lab/blob/feature%2Forig-to-ros2/ROS2lab.ipynb\" target=\"_parent\"><img src=\"https://colab.research.google.com/assets/colab-badge.svg\" alt=\"Open In Colab\"/></a>"
      ]
    },
    {
      "cell_type": "markdown",
      "metadata": {
        "id": "NL1ciNRBGpeg"
      },
      "source": [
        "# **ROS in Colab**\n",
        "\n",
        "\n",
        "---"
      ]
    },
    {
      "cell_type": "markdown",
      "metadata": {
        "id": "pt2Ea5xYH07A"
      },
      "source": [
        "### Colab's OS at the time of writing is Ubuntu 22.04 Jammy and the  corresponding ROS distro is ROS2 Iron which we are gonna install\n",
        "\n",
        "### **Note:** The next 2 cells only needs to be run once"
      ]
    },
    {
      "cell_type": "code",
      "source": [
        "!locale  # check for UTF-8\n",
        "\n",
        "!apt update && apt install locales\n",
        "!locale-gen en_US en_US.UTF-8\n",
        "!update-locale LC_ALL=en_US.UTF-8 LANG=en_US.UTF-8\n",
        "!export LANG=en_US.UTF-8\n",
        "\n",
        "!locale  # verify settings"
      ],
      "metadata": {
        "colab": {
          "base_uri": "https://localhost:8080/"
        },
        "id": "t9QVtLOvVmHl",
        "outputId": "b2c8fa58-d54b-4cc4-ceb7-09dff073da44"
      },
      "execution_count": 1,
      "outputs": [
        {
          "output_type": "stream",
          "name": "stdout",
          "text": [
            "LANG=en_US.UTF-8\n",
            "LANGUAGE=en_US\n",
            "LC_CTYPE=\"en_US.UTF-8\"\n",
            "LC_NUMERIC=\"en_US.UTF-8\"\n",
            "LC_TIME=\"en_US.UTF-8\"\n",
            "LC_COLLATE=\"en_US.UTF-8\"\n",
            "LC_MONETARY=\"en_US.UTF-8\"\n",
            "LC_MESSAGES=\"en_US.UTF-8\"\n",
            "LC_PAPER=\"en_US.UTF-8\"\n",
            "LC_NAME=\"en_US.UTF-8\"\n",
            "LC_ADDRESS=\"en_US.UTF-8\"\n",
            "LC_TELEPHONE=\"en_US.UTF-8\"\n",
            "LC_MEASUREMENT=\"en_US.UTF-8\"\n",
            "LC_IDENTIFICATION=\"en_US.UTF-8\"\n",
            "LC_ALL=en_US.UTF-8\n",
            "Get:1 https://cloud.r-project.org/bin/linux/ubuntu jammy-cran40/ InRelease [3,626 B]\n",
            "Get:2 https://developer.download.nvidia.com/compute/cuda/repos/ubuntu2204/x86_64  InRelease [1,581 B]\n",
            "Get:3 https://developer.download.nvidia.com/compute/cuda/repos/ubuntu2204/x86_64  Packages [805 kB]\n",
            "Get:4 http://security.ubuntu.com/ubuntu jammy-security InRelease [110 kB]\n",
            "Hit:5 http://archive.ubuntu.com/ubuntu jammy InRelease\n",
            "Get:6 http://archive.ubuntu.com/ubuntu jammy-updates InRelease [119 kB]\n",
            "Hit:7 https://ppa.launchpadcontent.net/c2d4u.team/c2d4u4.0+/ubuntu jammy InRelease\n",
            "Get:8 https://ppa.launchpadcontent.net/deadsnakes/ppa/ubuntu jammy InRelease [18.1 kB]\n",
            "Hit:9 https://ppa.launchpadcontent.net/graphics-drivers/ppa/ubuntu jammy InRelease\n",
            "Get:10 http://security.ubuntu.com/ubuntu jammy-security/restricted amd64 Packages [2,124 kB]\n",
            "Hit:11 https://ppa.launchpadcontent.net/ubuntugis/ppa/ubuntu jammy InRelease\n",
            "Hit:12 http://archive.ubuntu.com/ubuntu jammy-backports InRelease\n",
            "Get:13 https://ppa.launchpadcontent.net/deadsnakes/ppa/ubuntu jammy/main amd64 Packages [27.7 kB]\n",
            "Get:14 http://archive.ubuntu.com/ubuntu jammy-updates/universe amd64 Packages [1,357 kB]\n",
            "Get:15 http://archive.ubuntu.com/ubuntu jammy-updates/main amd64 Packages [1,969 kB]\n",
            "Get:16 http://security.ubuntu.com/ubuntu jammy-security/main amd64 Packages [1,690 kB]\n",
            "Get:17 http://security.ubuntu.com/ubuntu jammy-security/multiverse amd64 Packages [44.7 kB]\n",
            "Get:18 http://archive.ubuntu.com/ubuntu jammy-updates/restricted amd64 Packages [2,173 kB]\n",
            "Get:19 http://archive.ubuntu.com/ubuntu jammy-updates/multiverse amd64 Packages [61.3 kB]\n",
            "Fetched 10.5 MB in 4s (2,973 kB/s)\n",
            "Reading package lists... Done\n",
            "Building dependency tree... Done\n",
            "Reading state information... Done\n",
            "46 packages can be upgraded. Run 'apt list --upgradable' to see them.\n",
            "Reading package lists... Done\n",
            "Building dependency tree... Done\n",
            "Reading state information... Done\n",
            "locales is already the newest version (2.35-0ubuntu3.6).\n",
            "0 upgraded, 0 newly installed, 0 to remove and 46 not upgraded.\n",
            "Generating locales (this might take a while)...\n",
            "  en_US.ISO-8859-1... done\n",
            "  en_US.UTF-8... done\n",
            "Generation complete.\n",
            "LANG=en_US.UTF-8\n",
            "LANGUAGE=en_US\n",
            "LC_CTYPE=\"en_US.UTF-8\"\n",
            "LC_NUMERIC=\"en_US.UTF-8\"\n",
            "LC_TIME=\"en_US.UTF-8\"\n",
            "LC_COLLATE=\"en_US.UTF-8\"\n",
            "LC_MONETARY=\"en_US.UTF-8\"\n",
            "LC_MESSAGES=\"en_US.UTF-8\"\n",
            "LC_PAPER=\"en_US.UTF-8\"\n",
            "LC_NAME=\"en_US.UTF-8\"\n",
            "LC_ADDRESS=\"en_US.UTF-8\"\n",
            "LC_TELEPHONE=\"en_US.UTF-8\"\n",
            "LC_MEASUREMENT=\"en_US.UTF-8\"\n",
            "LC_IDENTIFICATION=\"en_US.UTF-8\"\n",
            "LC_ALL=en_US.UTF-8\n"
          ]
        }
      ]
    },
    {
      "cell_type": "code",
      "metadata": {
        "id": "x_pPPYR-Gmdd",
        "colab": {
          "base_uri": "https://localhost:8080/"
        },
        "outputId": "609ce0bd-7860-4105-e29d-e18f9f040658"
      },
      "source": [
        "# Since colab notebooks are already run in root we don't need to sudo\n",
        "\n",
        "!sudo apt install software-properties-common\n",
        "!sudo add-apt-repository universe -y\n",
        "\n",
        "!sudo apt update && sudo apt install curl -y\n",
        "!sudo curl -sSL https://raw.githubusercontent.com/ros/rosdistro/master/ros.key -o /usr/share/keyrings/ros-archive-keyring.gpg\n",
        "\n",
        "!echo \"deb [arch=$(dpkg --print-architecture) signed-by=/usr/share/keyrings/ros-archive-keyring.gpg] http://packages.ros.org/ros2/ubuntu $(. /etc/os-release && echo $UBUNTU_CODENAME) main\" | sudo tee /etc/apt/sources.list.d/ros2.list > /dev/null\n",
        "\n",
        "!sudo apt update && sudo apt install ros-dev-tools\n",
        "\n",
        "!sudo apt upgrade\n",
        "!sudo apt install ros-iron-desktop\n"
      ],
      "execution_count": 3,
      "outputs": [
        {
          "output_type": "stream",
          "name": "stdout",
          "text": [
            "Reading package lists... Done\n",
            "Building dependency tree... Done\n",
            "Reading state information... Done\n",
            "software-properties-common is already the newest version (0.99.22.9).\n",
            "The following packages were automatically installed and are no longer required:\n",
            "  linux-headers-5.15.0-101 linux-headers-5.15.0-101-generic\n",
            "Use 'sudo apt autoremove' to remove them.\n",
            "0 upgraded, 0 newly installed, 0 to remove and 4 not upgraded.\n",
            "Adding component(s) 'universe' to all repositories.\n",
            "Hit:1 https://cloud.r-project.org/bin/linux/ubuntu jammy-cran40/ InRelease\n",
            "Hit:2 https://developer.download.nvidia.com/compute/cuda/repos/ubuntu2204/x86_64  InRelease\n",
            "Hit:3 http://security.ubuntu.com/ubuntu jammy-security InRelease\n",
            "Hit:4 http://archive.ubuntu.com/ubuntu jammy InRelease\n",
            "Hit:5 http://archive.ubuntu.com/ubuntu jammy-updates InRelease\n",
            "Hit:6 http://packages.ros.org/ros2/ubuntu jammy InRelease\n",
            "Hit:7 http://archive.ubuntu.com/ubuntu jammy-backports InRelease\n",
            "Hit:8 https://ppa.launchpadcontent.net/c2d4u.team/c2d4u4.0+/ubuntu jammy InRelease\n",
            "Hit:9 https://ppa.launchpadcontent.net/deadsnakes/ppa/ubuntu jammy InRelease\n",
            "Hit:10 https://ppa.launchpadcontent.net/graphics-drivers/ppa/ubuntu jammy InRelease\n",
            "Hit:11 https://ppa.launchpadcontent.net/ubuntugis/ppa/ubuntu jammy InRelease\n",
            "Reading package lists... Done\n",
            "Hit:1 https://developer.download.nvidia.com/compute/cuda/repos/ubuntu2204/x86_64  InRelease\n",
            "Hit:2 https://cloud.r-project.org/bin/linux/ubuntu jammy-cran40/ InRelease\n",
            "Hit:3 http://security.ubuntu.com/ubuntu jammy-security InRelease\n",
            "Hit:4 http://packages.ros.org/ros2/ubuntu jammy InRelease\n",
            "Hit:5 http://archive.ubuntu.com/ubuntu jammy InRelease\n",
            "Hit:6 http://archive.ubuntu.com/ubuntu jammy-updates InRelease\n",
            "Hit:7 http://archive.ubuntu.com/ubuntu jammy-backports InRelease\n",
            "Hit:8 https://ppa.launchpadcontent.net/c2d4u.team/c2d4u4.0+/ubuntu jammy InRelease\n",
            "Hit:9 https://ppa.launchpadcontent.net/deadsnakes/ppa/ubuntu jammy InRelease\n",
            "Hit:10 https://ppa.launchpadcontent.net/graphics-drivers/ppa/ubuntu jammy InRelease\n",
            "Hit:11 https://ppa.launchpadcontent.net/ubuntugis/ppa/ubuntu jammy InRelease\n",
            "Reading package lists... Done\n",
            "Building dependency tree... Done\n",
            "Reading state information... Done\n",
            "4 packages can be upgraded. Run 'apt list --upgradable' to see them.\n",
            "Reading package lists... Done\n",
            "Building dependency tree... Done\n",
            "Reading state information... Done\n",
            "curl is already the newest version (7.81.0-1ubuntu1.16).\n",
            "The following packages were automatically installed and are no longer required:\n",
            "  linux-headers-5.15.0-101 linux-headers-5.15.0-101-generic\n",
            "Use 'sudo apt autoremove' to remove them.\n",
            "0 upgraded, 0 newly installed, 0 to remove and 4 not upgraded.\n",
            "Hit:1 https://cloud.r-project.org/bin/linux/ubuntu jammy-cran40/ InRelease\n",
            "Hit:2 https://developer.download.nvidia.com/compute/cuda/repos/ubuntu2204/x86_64  InRelease\n",
            "Hit:3 http://packages.ros.org/ros2/ubuntu jammy InRelease\n",
            "Hit:4 http://archive.ubuntu.com/ubuntu jammy InRelease\n",
            "Hit:5 http://security.ubuntu.com/ubuntu jammy-security InRelease\n",
            "Hit:6 http://archive.ubuntu.com/ubuntu jammy-updates InRelease\n",
            "Hit:7 http://archive.ubuntu.com/ubuntu jammy-backports InRelease\n",
            "Hit:8 https://ppa.launchpadcontent.net/c2d4u.team/c2d4u4.0+/ubuntu jammy InRelease\n",
            "Hit:9 https://ppa.launchpadcontent.net/deadsnakes/ppa/ubuntu jammy InRelease\n",
            "Hit:10 https://ppa.launchpadcontent.net/graphics-drivers/ppa/ubuntu jammy InRelease\n",
            "Hit:11 https://ppa.launchpadcontent.net/ubuntugis/ppa/ubuntu jammy InRelease\n",
            "Reading package lists... Done\n",
            "Building dependency tree... Done\n",
            "Reading state information... Done\n",
            "4 packages can be upgraded. Run 'apt list --upgradable' to see them.\n",
            "Reading package lists... Done\n",
            "Building dependency tree... Done\n",
            "Reading state information... Done\n",
            "ros-dev-tools is already the newest version (1.0.0).\n",
            "The following packages were automatically installed and are no longer required:\n",
            "  linux-headers-5.15.0-101 linux-headers-5.15.0-101-generic\n",
            "Use 'sudo apt autoremove' to remove them.\n",
            "0 upgraded, 0 newly installed, 0 to remove and 4 not upgraded.\n",
            "Reading package lists... Done\n",
            "Building dependency tree... Done\n",
            "Reading state information... Done\n",
            "Calculating upgrade... Done\n",
            "The following packages were automatically installed and are no longer required:\n",
            "  linux-headers-5.15.0-101 linux-headers-5.15.0-101-generic\n",
            "Use 'sudo apt autoremove' to remove them.\n",
            "The following packages have been kept back:\n",
            "  libcudnn8 libcudnn8-dev libnccl-dev libnccl2\n",
            "0 upgraded, 0 newly installed, 0 to remove and 4 not upgraded.\n",
            "Reading package lists... Done\n",
            "Building dependency tree... Done\n",
            "Reading state information... Done\n",
            "ros-iron-desktop is already the newest version (0.10.0-3jammy.20240327.170726).\n",
            "The following packages were automatically installed and are no longer required:\n",
            "  linux-headers-5.15.0-101 linux-headers-5.15.0-101-generic\n",
            "Use 'sudo apt autoremove' to remove them.\n",
            "0 upgraded, 0 newly installed, 0 to remove and 4 not upgraded.\n",
            "/root\n"
          ]
        }
      ]
    },
    {
      "cell_type": "code",
      "source": [
        "# Generate files that will create the env for Colab on every run command\n",
        "# Create ROS Master\n",
        "with open('roscore.sh', 'w') as f:\n",
        "  f.write('#!/bin/bash\\n')\n",
        "  f.write('source /opt/ros/iron/setup.bash\\n')\n",
        "  f.write('/opt/ros/iron/bin/roscore')\n",
        "f.close()\n",
        "!chmod +x roscore.sh\n",
        "\n",
        "# Start the master node\n",
        "import subprocess\n",
        "import os\n",
        "master = subprocess.Popen([os.getcwd() + \"/roscore.sh\"])\n",
        "\n",
        "# Create a file that sets up master URI and sources ROS\n",
        "%cd ~/\n",
        "!touch roslab\n",
        "with open(\"roslab\", 'w') as filewriter:\n",
        "  filewriter.write('#!/bin/bash\\n')\n",
        "  filewriter.write('ROS_MASTER_URI=\"0.0.0.0\"\\n')\n",
        "  filewriter.write('source /opt/ros/iron/setup.bash\\n')\n",
        "  filewriter.write('exec $@\\n')\n",
        "filewriter.close()\n",
        "!chmod +x roslab\n",
        "\n",
        "!echo \"Done, files created in:\"\n",
        "!pwd\n",
        "!ls"
      ],
      "metadata": {
        "colab": {
          "base_uri": "https://localhost:8080/",
          "height": 269
        },
        "id": "CbDeTjCEYu-2",
        "outputId": "f60cff33-471b-43eb-f2b5-4680c4a38569"
      },
      "execution_count": 9,
      "outputs": [
        {
          "output_type": "stream",
          "name": "stdout",
          "text": [
            "/root\n",
            "Done\n",
            "roscore.sh  roslab\n"
          ]
        },
        {
          "output_type": "error",
          "ename": "NameError",
          "evalue": "name 'pwd' is not defined",
          "traceback": [
            "\u001b[0;31m---------------------------------------------------------------------------\u001b[0m",
            "\u001b[0;31mNameError\u001b[0m                                 Traceback (most recent call last)",
            "\u001b[0;32m<ipython-input-9-991088d241da>\u001b[0m in \u001b[0;36m<cell line: 27>\u001b[0;34m()\u001b[0m\n\u001b[1;32m     25\u001b[0m \u001b[0mget_ipython\u001b[0m\u001b[0;34m(\u001b[0m\u001b[0;34m)\u001b[0m\u001b[0;34m.\u001b[0m\u001b[0msystem\u001b[0m\u001b[0;34m(\u001b[0m\u001b[0;34m'echo \"Done\"'\u001b[0m\u001b[0;34m)\u001b[0m\u001b[0;34m\u001b[0m\u001b[0;34m\u001b[0m\u001b[0m\n\u001b[1;32m     26\u001b[0m \u001b[0mget_ipython\u001b[0m\u001b[0;34m(\u001b[0m\u001b[0;34m)\u001b[0m\u001b[0;34m.\u001b[0m\u001b[0msystem\u001b[0m\u001b[0;34m(\u001b[0m\u001b[0;34m'ls'\u001b[0m\u001b[0;34m)\u001b[0m\u001b[0;34m\u001b[0m\u001b[0;34m\u001b[0m\u001b[0m\n\u001b[0;32m---> 27\u001b[0;31m \u001b[0mpwd\u001b[0m\u001b[0;34m\u001b[0m\u001b[0;34m\u001b[0m\u001b[0m\n\u001b[0m",
            "\u001b[0;31mNameError\u001b[0m: name 'pwd' is not defined"
          ]
        }
      ]
    },
    {
      "cell_type": "markdown",
      "metadata": {
        "id": "3IbKkURSdWy4"
      },
      "source": [
        "## Wait 1-2 minutes (Because the subprocess function is asynchronous and will contiue to run in the background till it terminates)"
      ]
    },
    {
      "cell_type": "markdown",
      "metadata": {
        "id": "nFQbkxMbdq4-"
      },
      "source": [
        "## Now test if the master is working and you have got ROS up and running"
      ]
    },
    {
      "cell_type": "code",
      "metadata": {
        "id": "U9Ixg310bvxn",
        "colab": {
          "base_uri": "https://localhost:8080/"
        },
        "outputId": "edf5d516-1db4-4a0e-e052-3ad5d76705dc"
      },
      "source": [
        "!~/roslab ros2 topic list\n",
        "!~/roslab ros2 launch demo_talker_listener_launch.py\n"
      ],
      "execution_count": 31,
      "outputs": [
        {
          "output_type": "stream",
          "name": "stdout",
          "text": [
            "/parameter_events\n",
            "/rosout\n",
            "[INFO] [launch]: All log files can be found below /root/.ros/log/2024-04-09-15-52-48-842423-dac3b1e3905f-32111\n",
            "[INFO] [launch]: Default logging verbosity is set to INFO\n",
            "[INFO] [listener-1]: process started with pid [32149]\n",
            "[INFO] [talker-2]: process started with pid [32151]\n",
            "[talker-2] [INFO] [1712677970.055356679] [demo.talk_sim]: Publishing: 'Hello World: 1'\n",
            "[listener-1] [INFO] [1712677970.055828088] [demo.listen_sim]: I heard: [Hello World: 1]\n",
            "[talker-2] [INFO] [1712677971.055314342] [demo.talk_sim]: Publishing: 'Hello World: 2'\n",
            "[listener-1] [INFO] [1712677971.357781250] [demo.listen_sim]: I heard: [Hello World: 2]\n",
            "[talker-2] [INFO] [1712677972.055299501] [demo.talk_sim]: Publishing: 'Hello World: 3'\n",
            "[listener-1] [INFO] [1712677972.055641042] [demo.listen_sim]: I heard: [Hello World: 3]\n",
            "[talker-2] [INFO] [1712677973.055336117] [demo.talk_sim]: Publishing: 'Hello World: 4'\n",
            "[listener-1] [INFO] [1712677973.055758146] [demo.listen_sim]: I heard: [Hello World: 4]\n",
            "[talker-2] [INFO] [1712677974.055349177] [demo.talk_sim]: Publishing: 'Hello World: 5'\n",
            "[listener-1] [INFO] [1712677974.055620021] [demo.listen_sim]: I heard: [Hello World: 5]\n",
            "[talker-2] [INFO] [1712677975.055340592] [demo.talk_sim]: Publishing: 'Hello World: 6'\n",
            "[listener-1] [INFO] [1712677975.055627239] [demo.listen_sim]: I heard: [Hello World: 6]\n",
            "[WARNING] [launch]: user interrupted with ctrl-c (SIGINT)\n",
            "[WARNING] [launch]: user interrupted with ctrl-c (SIGINT) again, ignoring...\n",
            "[talker-2] [INFO] [1712677976.055796572] [rclcpp]: signal_handler(signum=2)\n",
            "[talker-2] [INFO] [1712677976.056448499] [demo.talk_sim]: Publishing: 'Hello World: 7'\n",
            "[INFO] [listener-1]: process has finished cleanly [pid 32149]\n",
            "[INFO] [talker-2]: process has finished cleanly [pid 32151]\n"
          ]
        }
      ]
    },
    {
      "cell_type": "markdown",
      "metadata": {
        "id": "TeJaAR6FO8mo"
      },
      "source": [
        "## Run the next cell whenever your master stops"
      ]
    },
    {
      "cell_type": "code",
      "metadata": {
        "id": "2wDGJXkDO7hz"
      },
      "source": [
        "import subprocess\n",
        "import os\n",
        "prc = subprocess.Popen([os.getcwd()+\"/ros_start.sh\"])"
      ],
      "execution_count": null,
      "outputs": []
    },
    {
      "cell_type": "markdown",
      "metadata": {
        "id": "if96NdSnLcWW"
      },
      "source": [
        "## Optional Stuff"
      ]
    },
    {
      "cell_type": "code",
      "metadata": {
        "id": "3gzi7OWnHS1a"
      },
      "source": [
        "# Rospy installation\n",
        "\n",
        "!pip install --extra-index-url https://rospypi.github.io/simple/ rospy"
      ],
      "execution_count": null,
      "outputs": []
    },
    {
      "cell_type": "markdown",
      "metadata": {
        "id": "jtB8vepJd-6n"
      },
      "source": [
        "## Create a ROS catkin workspace"
      ]
    },
    {
      "cell_type": "code",
      "metadata": {
        "id": "f3532hL7Kq61"
      },
      "source": [
        "!mkdir -p ~/catkin_ws/src\n",
        "\n",
        "%cd ~/catkin_ws/src\n",
        "\n",
        "!~/roslab catkin_init_workspace\n",
        "\n",
        "%cd ~/catkin_ws/\n",
        "\n",
        "!~/roslab catkin_make"
      ],
      "execution_count": null,
      "outputs": []
    },
    {
      "cell_type": "code",
      "metadata": {
        "id": "c4virfKEj70N"
      },
      "source": [
        "# The directory structure\n",
        "!ls"
      ],
      "execution_count": null,
      "outputs": []
    },
    {
      "cell_type": "code",
      "metadata": {
        "id": "BbSwpmvpjrt3"
      },
      "source": [
        "# The directory tree\n",
        "!find . -type d | sed -e \"s/[^-][^\\/]*\\//  |/g\" -e \"s/|\\([^ ]\\)/|-\\1/\""
      ],
      "execution_count": null,
      "outputs": []
    },
    {
      "cell_type": "markdown",
      "metadata": {
        "id": "imZXoKNgef6w"
      },
      "source": [
        "## And you're all set to start working with ROS on colab!"
      ]
    },
    {
      "cell_type": "code",
      "metadata": {
        "id": "iwXISTCIeokk"
      },
      "source": [],
      "execution_count": null,
      "outputs": []
    }
  ]
}