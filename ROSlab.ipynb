{
  "nbformat": 4,
  "nbformat_minor": 0,
  "metadata": {
    "colab": {
      "name": "ROSlab.ipynb",
      "provenance": [],
      "collapsed_sections": [],
      "toc_visible": true
    },
    "kernelspec": {
      "name": "python3",
      "display_name": "Python 3"
    },
    "language_info": {
      "name": "python"
    }
  },
  "cells": [
    {
      "cell_type": "markdown",
      "metadata": {
        "id": "NL1ciNRBGpeg"
      },
      "source": [
        "# **ROS in Colab**\n",
        "\n",
        "\n",
        "---"
      ]
    },
    {
      "cell_type": "markdown",
      "metadata": {
        "id": "pt2Ea5xYH07A"
      },
      "source": [
        "### Colab's OS at the time of writing this is Ubuntu 18.04 Bionic and the  corresponding ROS distro is Melodic which we are gonna install\n",
        "\n",
        "### **Note:** The next cell only needs to be run once"
      ]
    },
    {
      "cell_type": "code",
      "metadata": {
        "colab": {
          "base_uri": "https://localhost:8080/"
        },
        "id": "x_pPPYR-Gmdd",
        "outputId": "ea4adaac-171a-465b-b413-ec83a0fd2ed0"
      },
      "source": [
        "# Since colab notebooks are already run in root we don't need to sudo\n",
        "\n",
        "# Adding the ROS source to sources.list.d\n",
        "!echo \"deb http://packages.ros.org/ros/ubuntu bionic main\" > /etc/apt/sources.list.d/ros-latest.list\n",
        "\n",
        "# Setup keys\n",
        "!apt-key adv --keyserver 'hkp://keyserver.ubuntu.com:80' --recv-key C1CF6E31E6BADE8868B172B4F42ED6FBAB17C654\n",
        "\n",
        "!apt update\n",
        "\n",
        "# Install ROS Melodic full version\n",
        "!apt install ros-melodic-desktop-full\n",
        "\n",
        "# Create ROS Master\n",
        "with open('roscore.sh', 'w') as f:\n",
        "  f.write('#!/bin/bash\\n')\n",
        "  f.write('source /opt/ros/melodic/setup.bash\\n')\n",
        "  f.write('/opt/ros/melodic/bin/roscore')\n",
        "f.close()\n",
        "!chmod +x roscore.sh\n",
        "\n",
        "# Start the master node\n",
        "import subprocess\n",
        "import os\n",
        "master = subprocess.Popen([os.getcwd() + \"/roscore.sh\"])\n",
        "\n",
        "# Create a file that sets up master URI and sources ROS \n",
        "%cd ~/\n",
        "!touch roslab\n",
        "with open(\"roslab\", 'w') as filewriter:\n",
        "  filewriter.write('#!/bin/bash\\n')\n",
        "  filewriter.write('ROS_MASTER_URI=\"0.0.0.0\"\\n')\n",
        "  filewriter.write('source /opt/ros/melodic/setup.bash\\n')\n",
        "  filewriter.write('exec $@\\n')\n",
        "filewriter.close()\n",
        "!chmod +x roslab"
      ],
      "execution_count": null,
      "outputs": [
        {
          "output_type": "stream",
          "text": [
            "Executing: /tmp/apt-key-gpghome.R2HxGu2Amm/gpg.1.sh --keyserver hkp://keyserver.ubuntu.com:80 --recv-key C1CF6E31E6BADE8868B172B4F42ED6FBAB17C654\n",
            "gpg: key F42ED6FBAB17C654: \"Open Robotics <info@osrfoundation.org>\" not changed\n",
            "gpg: Total number processed: 1\n",
            "gpg:              unchanged: 1\n",
            "Hit:1 https://cloud.r-project.org/bin/linux/ubuntu bionic-cran40/ InRelease\n",
            "Ign:2 https://developer.download.nvidia.com/compute/cuda/repos/ubuntu1804/x86_64  InRelease\n",
            "Ign:3 https://developer.download.nvidia.com/compute/machine-learning/repos/ubuntu1804/x86_64  InRelease\n",
            "Hit:4 https://developer.download.nvidia.com/compute/cuda/repos/ubuntu1804/x86_64  Release\n",
            "Hit:5 http://ppa.launchpad.net/c2d4u.team/c2d4u4.0+/ubuntu bionic InRelease\n",
            "Hit:6 https://developer.download.nvidia.com/compute/machine-learning/repos/ubuntu1804/x86_64  Release\n",
            "Hit:7 http://packages.ros.org/ros/ubuntu bionic InRelease\n",
            "Hit:8 http://security.ubuntu.com/ubuntu bionic-security InRelease\n",
            "Hit:9 http://archive.ubuntu.com/ubuntu bionic InRelease\n",
            "Hit:11 http://archive.ubuntu.com/ubuntu bionic-updates InRelease\n",
            "Hit:12 http://ppa.launchpad.net/cran/libgit2/ubuntu bionic InRelease\n",
            "Hit:14 http://archive.ubuntu.com/ubuntu bionic-backports InRelease\n",
            "Hit:15 http://ppa.launchpad.net/deadsnakes/ppa/ubuntu bionic InRelease\n",
            "Hit:16 http://ppa.launchpad.net/graphics-drivers/ppa/ubuntu bionic InRelease\n",
            "Reading package lists... Done\n",
            "Building dependency tree       \n",
            "Reading state information... Done\n",
            "58 packages can be upgraded. Run 'apt list --upgradable' to see them.\n",
            "Reading package lists... Done\n",
            "Building dependency tree       \n",
            "Reading state information... Done\n",
            "ros-melodic-desktop-full is already the newest version (1.4.1-0bionic.20210415.004555).\n",
            "The following package was automatically installed and is no longer required:\n",
            "  libnvidia-common-460\n",
            "Use 'apt autoremove' to remove it.\n",
            "0 upgraded, 0 newly installed, 0 to remove and 58 not upgraded.\n",
            "/root\n"
          ],
          "name": "stdout"
        }
      ]
    },
    {
      "cell_type": "markdown",
      "metadata": {
        "id": "3IbKkURSdWy4"
      },
      "source": [
        "## Wait 1-2 minutes (Because the subprocess function is asynchronous and will contiue to run in the background till it terminates)"
      ]
    },
    {
      "cell_type": "markdown",
      "metadata": {
        "id": "nFQbkxMbdq4-"
      },
      "source": [
        "## Now test if the master is working and you have got ROS up and running"
      ]
    },
    {
      "cell_type": "code",
      "metadata": {
        "colab": {
          "base_uri": "https://localhost:8080/"
        },
        "id": "U9Ixg310bvxn",
        "outputId": "b9e36989-6664-4b92-f079-83da60d8aef6"
      },
      "source": [
        "!~/roslab rostopic list"
      ],
      "execution_count": null,
      "outputs": [
        {
          "output_type": "stream",
          "text": [
            "/rosout\n",
            "/rosout_agg\n"
          ],
          "name": "stdout"
        }
      ]
    },
    {
      "cell_type": "markdown",
      "metadata": {
        "id": "TeJaAR6FO8mo"
      },
      "source": [
        "## Run the next cell whenever your master stops"
      ]
    },
    {
      "cell_type": "code",
      "metadata": {
        "id": "2wDGJXkDO7hz"
      },
      "source": [
        "import subprocess\n",
        "import os\n",
        "prc = subprocess.Popen([os.getcwd()+\"/ros_start.sh\"])"
      ],
      "execution_count": null,
      "outputs": []
    },
    {
      "cell_type": "markdown",
      "metadata": {
        "id": "if96NdSnLcWW"
      },
      "source": [
        "## Optional Stuff"
      ]
    },
    {
      "cell_type": "code",
      "metadata": {
        "id": "3gzi7OWnHS1a"
      },
      "source": [
        "# Rospy installation\n",
        "\n",
        "!pip install --extra-index-url https://rospypi.github.io/simple/ rospy"
      ],
      "execution_count": null,
      "outputs": []
    },
    {
      "cell_type": "markdown",
      "metadata": {
        "id": "jtB8vepJd-6n"
      },
      "source": [
        "## Create a ROS catkin workspace"
      ]
    },
    {
      "cell_type": "code",
      "metadata": {
        "colab": {
          "base_uri": "https://localhost:8080/"
        },
        "id": "f3532hL7Kq61",
        "outputId": "4934ee24-7993-487b-b574-68b7abcd53f3"
      },
      "source": [
        "!mkdir -p ~/catkin_ws/src\n",
        "\n",
        "%cd ~/catkin_ws/src\n",
        "\n",
        "!~/roslab catkin_init_workspace\n",
        "\n",
        "%cd ~/catkin_ws/\n",
        "\n",
        "!~/roslab catkin_make"
      ],
      "execution_count": null,
      "outputs": [
        {
          "output_type": "stream",
          "text": [
            "/root/catkin_ws/src\n",
            "File \"/root/catkin_ws/src/CMakeLists.txt\" already exists/root/catkin_ws\n",
            "Base path: /root/catkin_ws\n",
            "Source space: /root/catkin_ws/src\n",
            "Build space: /root/catkin_ws/build\n",
            "Devel space: /root/catkin_ws/devel\n",
            "Install space: /root/catkin_ws/install\n",
            "\u001b[34m####\u001b[0m\n",
            "\u001b[34m#### Running command: \u001b[1m\"cmake /root/catkin_ws/src -DCATKIN_DEVEL_PREFIX=/root/catkin_ws/devel -DCMAKE_INSTALL_PREFIX=/root/catkin_ws/install -G Unix Makefiles\"\u001b[0m\u001b[34m in \u001b[1m\"/root/catkin_ws/build\"\u001b[0m\n",
            "\u001b[34m####\u001b[0m\n",
            "-- The C compiler identification is GNU 7.5.0\n",
            "\u001b[0m-- The CXX compiler identification is GNU 7.5.0\n",
            "\u001b[0m-- Check for working C compiler: /usr/bin/cc\n",
            "\u001b[0m-- Check for working C compiler: /usr/bin/cc -- works\n",
            "\u001b[0m-- Detecting C compiler ABI info\n",
            "\u001b[0m-- Detecting C compiler ABI info - done\n",
            "\u001b[0m-- Detecting C compile features\n",
            "\u001b[0m-- Detecting C compile features - done\n",
            "\u001b[0m-- Check for working CXX compiler: /usr/bin/c++\n",
            "\u001b[0m-- Check for working CXX compiler: /usr/bin/c++ -- works\n",
            "\u001b[0m-- Detecting CXX compiler ABI info\n",
            "\u001b[0m-- Detecting CXX compiler ABI info - done\n",
            "\u001b[0m-- Detecting CXX compile features\n",
            "\u001b[0m-- Detecting CXX compile features - done\n",
            "\u001b[0m-- Using CATKIN_DEVEL_PREFIX: /root/catkin_ws/devel\n",
            "\u001b[0m-- Using CMAKE_PREFIX_PATH: /opt/ros/melodic\n",
            "\u001b[0m-- This workspace overlays: /opt/ros/melodic\n",
            "\u001b[0m-- Found PythonInterp: /usr/bin/python2 (found suitable version \"2.7.17\", minimum required is \"2\") \n",
            "\u001b[0m-- Using PYTHON_EXECUTABLE: /usr/bin/python2\n",
            "\u001b[0m-- Using Debian Python package layout\n",
            "\u001b[0m-- Using empy: /usr/bin/empy\n",
            "\u001b[0m-- Using CATKIN_ENABLE_TESTING: ON\n",
            "\u001b[0m-- Call enable_testing()\n",
            "\u001b[0m-- Using CATKIN_TEST_RESULTS_DIR: /root/catkin_ws/build/test_results\n",
            "\u001b[0m-- Found gtest sources under '/usr/src/googletest': gtests will be built\n",
            "\u001b[0m-- Found gmock sources under '/usr/src/googletest': gmock will be built\n",
            "\u001b[0m-- Found PythonInterp: /usr/bin/python2 (found version \"2.7.17\") \n",
            "\u001b[0m-- Looking for pthread.h\n",
            "\u001b[0m-- Looking for pthread.h - found\n",
            "\u001b[0m-- Looking for pthread_create\n",
            "\u001b[0m-- Looking for pthread_create - not found\n",
            "\u001b[0m-- Looking for pthread_create in pthreads\n",
            "\u001b[0m-- Looking for pthread_create in pthreads - not found\n",
            "\u001b[0m-- Looking for pthread_create in pthread\n",
            "\u001b[0m-- Looking for pthread_create in pthread - found\n",
            "\u001b[0m-- Found Threads: TRUE  \n",
            "\u001b[0m-- Using Python nosetests: /usr/local/bin/nosetests-2.7\n",
            "\u001b[0m-- catkin 0.7.29\n",
            "\u001b[0m-- BUILD_SHARED_LIBS is on\n",
            "\u001b[0m-- BUILD_SHARED_LIBS is on\n",
            "\u001b[0m-- Configuring done\n",
            "\u001b[0m-- Generating done\n",
            "\u001b[0m-- Build files have been written to: /root/catkin_ws/build\n",
            "\u001b[0m\u001b[34m####\u001b[0m\n",
            "\u001b[34m#### Running command: \u001b[1m\"make -j2 -l2\"\u001b[0m\u001b[34m in \u001b[1m\"/root/catkin_ws/build\"\u001b[0m\n",
            "\u001b[34m####\u001b[0m\n"
          ],
          "name": "stdout"
        }
      ]
    },
    {
      "cell_type": "code",
      "metadata": {
        "colab": {
          "base_uri": "https://localhost:8080/"
        },
        "id": "c4virfKEj70N",
        "outputId": "63049b66-1a4b-446c-d77b-65c96f1aa676"
      },
      "source": [
        "# The directory structure\n",
        "!ls"
      ],
      "execution_count": null,
      "outputs": [
        {
          "output_type": "stream",
          "text": [
            "build  devel  src\n"
          ],
          "name": "stdout"
        }
      ]
    },
    {
      "cell_type": "code",
      "metadata": {
        "colab": {
          "base_uri": "https://localhost:8080/"
        },
        "id": "BbSwpmvpjrt3",
        "outputId": "9552f090-0a80-41e5-f1f0-df63fe2984b5"
      },
      "source": [
        "# The directory tree\n",
        "!find . -type d | sed -e \"s/[^-][^\\/]*\\//  |/g\" -e \"s/|\\([^ ]\\)/|-\\1/\""
      ],
      "execution_count": null,
      "outputs": [
        {
          "output_type": "stream",
          "text": [
            ".\n",
            "  |-devel\n",
            "  |  |-lib\n",
            "  |-src\n",
            "  |-build\n",
            "  |  |-test_results\n",
            "  |  |-gtest\n",
            "  |  |  |-googlemock\n",
            "  |  |  |  |-gtest\n",
            "  |  |  |  |  |-CMakeFiles\n",
            "  |  |  |  |  |  |-gtest.dir\n",
            "  |  |  |  |  |  |  |-src\n",
            "  |  |  |  |  |  |-gtest_main.dir\n",
            "  |  |  |  |  |  |  |-src\n",
            "  |  |  |  |-CMakeFiles\n",
            "  |  |  |  |  |-gmock.dir\n",
            "  |  |  |  |  |  |-src\n",
            "  |  |  |  |  |  |-__\n",
            "  |  |  |  |  |  |  |-googletest\n",
            "  |  |  |  |  |  |  |  |-src\n",
            "  |  |  |  |  |-gmock_main.dir\n",
            "  |  |  |  |  |  |-src\n",
            "  |  |  |  |  |  |-__\n",
            "  |  |  |  |  |  |  |-googletest\n",
            "  |  |  |  |  |  |  |  |-src\n",
            "  |  |  |-CMakeFiles\n",
            "  |  |-catkin_generated\n",
            "  |  |  |-installspace\n",
            "  |  |  |-stamps\n",
            "  |  |  |  |-Project\n",
            "  |  |-catkin\n",
            "  |  |  |-catkin_generated\n",
            "  |  |  |  |-version\n",
            "  |  |-CMakeFiles\n",
            "  |  |  |-3.12.0\n",
            "  |  |  |  |-CompilerIdCXX\n",
            "  |  |  |  |  |-tmp\n",
            "  |  |  |  |-CompilerIdC\n",
            "  |  |  |  |  |-tmp\n",
            "  |  |  |-clean_test_results.dir\n",
            "  |  |  |-download_extra_data.dir\n",
            "  |  |  |-tests.dir\n",
            "  |  |  |-doxygen.dir\n",
            "  |  |  |-CMakeTmp\n",
            "  |  |  |-run_tests.dir\n",
            "  |  |-atomic_configure\n"
          ],
          "name": "stdout"
        }
      ]
    },
    {
      "cell_type": "markdown",
      "metadata": {
        "id": "imZXoKNgef6w"
      },
      "source": [
        "## And you're all set to start working with ROS on colab!"
      ]
    },
    {
      "cell_type": "code",
      "metadata": {
        "id": "iwXISTCIeokk"
      },
      "source": [
        ""
      ],
      "execution_count": null,
      "outputs": []
    }
  ]
}