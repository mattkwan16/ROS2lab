{
  "nbformat": 4,
  "nbformat_minor": 0,
  "metadata": {
    "colab": {
      "name": "ROSlab.ipynb",
      "provenance": [],
      "collapsed_sections": [],
      "toc_visible": true
    },
    "kernelspec": {
      "name": "python3",
      "display_name": "Python 3"
    },
    "language_info": {
      "name": "python"
    }
  },
  "cells": [
    {
      "cell_type": "markdown",
      "metadata": {
        "id": "NL1ciNRBGpeg"
      },
      "source": [
        "# **ROS in Colab**\n",
        "\n",
        "\n",
        "---"
      ]
    },
    {
      "cell_type": "markdown",
      "metadata": {
        "id": "pt2Ea5xYH07A"
      },
      "source": [
        "### Colab's OS at the time of writing this is Ubuntu 18.04 Bionic and the  corresponding ROS distro is Melodic which we are gonna install\n",
        "\n",
        "### **Note:** The next cell only needs to be run once"
      ]
    },
    {
      "cell_type": "code",
      "metadata": {
        "id": "x_pPPYR-Gmdd"
      },
      "source": [
        "# Since colab notebooks are already run in root we don't need to sudo\n",
        "\n",
        "# Adding the ROS source to sources.list.d\n",
        "!echo \"deb http://packages.ros.org/ros/ubuntu bionic main\" > /etc/apt/sources.list.d/ros-latest.list\n",
        "\n",
        "# Setup keys\n",
        "!apt-key adv --keyserver 'hkp://keyserver.ubuntu.com:80' --recv-key C1CF6E31E6BADE8868B172B4F42ED6FBAB17C654\n",
        "\n",
        "!apt update\n",
        "\n",
        "# Install ROS Melodic full version\n",
        "!apt install ros-melodic-desktop-full\n",
        "\n",
        "# Create ROS Master\n",
        "with open('roscore.sh', 'w') as f:\n",
        "  f.write('#!/bin/bash\\n')\n",
        "  f.write('source /opt/ros/melodic/setup.bash\\n')\n",
        "  f.write('/opt/ros/melodic/bin/roscore')\n",
        "f.close()\n",
        "!chmod +x roscore.sh\n",
        "\n",
        "# Start the master node\n",
        "import subprocess\n",
        "import os\n",
        "master = subprocess.Popen([os.getcwd() + \"/roscore.sh\"])\n",
        "\n",
        "# Create a file that sets up master URI and sources ROS \n",
        "%cd ~/\n",
        "!touch roslab\n",
        "with open(\"roslab\", 'w') as filewriter:\n",
        "  filewriter.write('#!/bin/bash\\n')\n",
        "  filewriter.write('ROS_MASTER_URI=\"0.0.0.0\"\\n')\n",
        "  filewriter.write('source /opt/ros/melodic/setup.bash\\n')\n",
        "  filewriter.write('exec $@\\n')\n",
        "filewriter.close()\n",
        "!chmod +x roslab"
      ],
      "execution_count": null,
      "outputs": []
    },
    {
      "cell_type": "markdown",
      "metadata": {
        "id": "3IbKkURSdWy4"
      },
      "source": [
        "## Wait 1-2 minutes (Because the subprocess function is asynchronous and will contiue to run in the background till it terminates)"
      ]
    },
    {
      "cell_type": "markdown",
      "metadata": {
        "id": "nFQbkxMbdq4-"
      },
      "source": [
        "## Now test if the master is working and you have got ROS up and running"
      ]
    },
    {
      "cell_type": "code",
      "metadata": {
        "id": "U9Ixg310bvxn"
      },
      "source": [
        "!~/roslab rostopic list"
      ],
      "execution_count": null,
      "outputs": []
    },
    {
      "cell_type": "markdown",
      "metadata": {
        "id": "TeJaAR6FO8mo"
      },
      "source": [
        "## Run the next cell whenever your master stops"
      ]
    },
    {
      "cell_type": "code",
      "metadata": {
        "id": "2wDGJXkDO7hz"
      },
      "source": [
        "import subprocess\n",
        "import os\n",
        "prc = subprocess.Popen([os.getcwd()+\"/ros_start.sh\"])"
      ],
      "execution_count": null,
      "outputs": []
    },
    {
      "cell_type": "markdown",
      "metadata": {
        "id": "if96NdSnLcWW"
      },
      "source": [
        "## Optional Stuff"
      ]
    },
    {
      "cell_type": "code",
      "metadata": {
        "id": "3gzi7OWnHS1a"
      },
      "source": [
        "# Rospy installation\n",
        "\n",
        "!pip install --extra-index-url https://rospypi.github.io/simple/ rospy"
      ],
      "execution_count": null,
      "outputs": []
    },
    {
      "cell_type": "markdown",
      "metadata": {
        "id": "jtB8vepJd-6n"
      },
      "source": [
        "## Create a ROS catkin workspace"
      ]
    },
    {
      "cell_type": "code",
      "metadata": {
        "id": "f3532hL7Kq61"
      },
      "source": [
        "!mkdir -p ~/catkin_ws/src\n",
        "\n",
        "%cd ~/catkin_ws/src\n",
        "\n",
        "!~/roslab catkin_init_workspace\n",
        "\n",
        "%cd ~/catkin_ws/\n",
        "\n",
        "!~/roslab catkin_make"
      ],
      "execution_count": null,
      "outputs": []
    },
    {
      "cell_type": "code",
      "metadata": {
        "id": "c4virfKEj70N"
      },
      "source": [
        "# The directory structure\n",
        "!ls"
      ],
      "execution_count": null,
      "outputs": []
    },
    {
      "cell_type": "code",
      "metadata": {
        "id": "BbSwpmvpjrt3"
      },
      "source": [
        "# The directory tree\n",
        "!find . -type d | sed -e \"s/[^-][^\\/]*\\//  |/g\" -e \"s/|\\([^ ]\\)/|-\\1/\""
      ],
      "execution_count": null,
      "outputs": []
    },
    {
      "cell_type": "markdown",
      "metadata": {
        "id": "imZXoKNgef6w"
      },
      "source": [
        "## And you're all set to start working with ROS on colab!"
      ]
    },
    {
      "cell_type": "code",
      "metadata": {
        "id": "iwXISTCIeokk"
      },
      "source": [
        ""
      ],
      "execution_count": null,
      "outputs": []
    }
  ]
}